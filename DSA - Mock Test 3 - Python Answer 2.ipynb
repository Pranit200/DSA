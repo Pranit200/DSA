{
 "cells": [
  {
   "cell_type": "markdown",
   "id": "7193276b",
   "metadata": {},
   "source": [
    "### Implement a queue using a list in Python. Include the necessary methods such as enqueue, dequeue, and isEmpty."
   ]
  },
  {
   "cell_type": "code",
   "execution_count": 1,
   "id": "18ccd0d3",
   "metadata": {},
   "outputs": [],
   "source": [
    "class Queue:\n",
    "    def __init__(self):\n",
    "        self.queue = []\n",
    "\n",
    "    def enqueue(self, item):\n",
    "        \"\"\"Add an item to the rear of the queue.\"\"\"\n",
    "        self.queue.append(item)\n",
    "\n",
    "    def dequeue(self):\n",
    "        \"\"\"Remove and return the item at the front of the queue.\"\"\"\n",
    "        if not self.isEmpty():\n",
    "            return self.queue.pop(0)\n",
    "        else:\n",
    "            raise IndexError(\"Queue is empty.\")\n",
    "\n",
    "    def isEmpty(self):\n",
    "        \"\"\"Check if the queue is empty.\"\"\"\n",
    "        return len(self.queue) == 0"
   ]
  },
  {
   "cell_type": "code",
   "execution_count": 2,
   "id": "f06da54f",
   "metadata": {},
   "outputs": [
    {
     "name": "stdout",
     "output_type": "stream",
     "text": [
      "10\n",
      "20\n",
      "False\n",
      "30\n",
      "True\n"
     ]
    }
   ],
   "source": [
    "# Create a new queue\n",
    "my_queue = Queue()\n",
    "\n",
    "# Enqueue elements into the queue\n",
    "my_queue.enqueue(10)\n",
    "my_queue.enqueue(20)\n",
    "my_queue.enqueue(30)\n",
    "\n",
    "# Dequeue elements from the queue\n",
    "print(my_queue.dequeue())  \n",
    "print(my_queue.dequeue())  \n",
    "\n",
    "# Check if the queue is empty\n",
    "print(my_queue.isEmpty())  \n",
    "\n",
    "print(my_queue.dequeue())  \n",
    "print(my_queue.isEmpty())  "
   ]
  },
  {
   "cell_type": "code",
   "execution_count": null,
   "id": "ec2b5770",
   "metadata": {},
   "outputs": [],
   "source": []
  }
 ],
 "metadata": {
  "kernelspec": {
   "display_name": "Python 3 (ipykernel)",
   "language": "python",
   "name": "python3"
  },
  "language_info": {
   "codemirror_mode": {
    "name": "ipython",
    "version": 3
   },
   "file_extension": ".py",
   "mimetype": "text/x-python",
   "name": "python",
   "nbconvert_exporter": "python",
   "pygments_lexer": "ipython3",
   "version": "3.8.16"
  }
 },
 "nbformat": 4,
 "nbformat_minor": 5
}
