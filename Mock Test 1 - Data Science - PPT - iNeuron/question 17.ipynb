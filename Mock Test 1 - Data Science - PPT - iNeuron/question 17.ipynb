{
 "cells": [
  {
   "cell_type": "markdown",
   "id": "48314af4",
   "metadata": {},
   "source": [
    "**Task1:-** Write a function that takes a list of numbers as input and returns a new list containing only the even numbers from the input list. Use list comprehension to solve this problem."
   ]
  },
  {
   "cell_type": "code",
   "execution_count": 1,
   "id": "3900f5ee",
   "metadata": {},
   "outputs": [],
   "source": [
    "# We created a function which seperates the even numbers\n",
    "def even_numbers(numbers):\n",
    "    return [num for num in numbers if num % 2 == 0]"
   ]
  },
  {
   "cell_type": "code",
   "execution_count": 2,
   "id": "b0b162ba",
   "metadata": {},
   "outputs": [
    {
     "data": {
      "text/plain": [
       "[2, 4, 6, 8, 10]"
      ]
     },
     "execution_count": 2,
     "metadata": {},
     "output_type": "execute_result"
    }
   ],
   "source": [
    "a = [1,2,3,4,5,6,7,8,9,10]\n",
    "even_numbers(a)"
   ]
  },
  {
   "cell_type": "markdown",
   "id": "e2b4aaff",
   "metadata": {},
   "source": [
    "#### Now lets understand how this function works\n",
    "- This function one by one divides all the numbers by 2 and if the remainder is 0 then it says that the number is even and given that number as output."
   ]
  }
 ],
 "metadata": {
  "kernelspec": {
   "display_name": "Python 3 (ipykernel)",
   "language": "python",
   "name": "python3"
  },
  "language_info": {
   "codemirror_mode": {
    "name": "ipython",
    "version": 3
   },
   "file_extension": ".py",
   "mimetype": "text/x-python",
   "name": "python",
   "nbconvert_exporter": "python",
   "pygments_lexer": "ipython3",
   "version": "3.8.16"
  }
 },
 "nbformat": 4,
 "nbformat_minor": 5
}
