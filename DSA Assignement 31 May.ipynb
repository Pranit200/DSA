{
 "cells": [
  {
   "cell_type": "markdown",
   "id": "ed0b12dc",
   "metadata": {},
   "source": [
    "**Q1.** Given an array of integers nums and an integer target, return indices of the two numbers such that they add up to target.\n",
    "\n",
    "You may assume that each input would have exactly one solution, and you may not use the same element twice.\n",
    "\n",
    "You can return the answer in any order.\n",
    "\n",
    "**Example:**\n",
    "Input: nums = [2,7,11,15], target = 9\n",
    "Output0 [0,1]\n",
    "\n",
    "**Explanation:** Because nums[0] + nums[1] == 9, we return [0, 1]["
   ]
  },
  {
   "cell_type": "code",
   "execution_count": 5,
   "id": "961cfa2c",
   "metadata": {},
   "outputs": [
    {
     "data": {
      "text/plain": [
       "[0, 1]"
      ]
     },
     "execution_count": 5,
     "metadata": {},
     "output_type": "execute_result"
    }
   ],
   "source": [
    "# we can use a hash table (dictionary) to store the values and their indices as we iterate through the array.\n",
    "\n",
    "def twoSum(nums, target):\n",
    "    num_dict = {}\n",
    "    for i, num in enumerate(nums):\n",
    "        diff = target - num\n",
    "        if diff in num_dict:\n",
    "            return [num_dict[diff], i]\n",
    "        num_dict[num] = i\n",
    "    return []\n",
    "\n",
    "'''\n",
    "In this code, we iterate through the array `nums` using the `enumerate` function to access both the value and the index of each element. \n",
    "For each element, we calculate the difference by subtracting it from the target value. \n",
    "If the difference is already in the `num_dict`, we've found the two numbers that add up to the target, and we return their indices. \n",
    "Otherwise, we store the current number and its index in the `num_dict` for future reference.\n",
    "'''\n",
    "nums = [2, 7, 11, 15]\n",
    "target = 9\n",
    "twoSum(nums, target)"
   ]
  },
  {
   "cell_type": "markdown",
   "id": "d469725f",
   "metadata": {},
   "source": [
    "- In the example, `nums = [2, 7, 11, 15]` and `target = 9`. \n",
    "- When we iterate through the array, we start with the first element, `2`. \n",
    "- The difference is `9 - 2 = 7`. Since `7` is not in the dictionary, we add `2` to the dictionary with its index `0`. \n",
    "- Next, we move to the second element, `7`. \n",
    "- The difference is `9 - 7 = 2`, which is in the dictionary. \n",
    "- The index corresponding to the difference is `0`, so we return the indices `[0, 1]`, indicating that the numbers at indices `0` and `1` add up to the target `9`."
   ]
  },
  {
   "cell_type": "markdown",
   "id": "6cf0b242",
   "metadata": {},
   "source": [
    "**Q2.** Given an integer array nums and an integer val, remove all occurrences of val in nums in-place. The order of the elements may be changed. Then return the number of elements in nums which are not equal to val.\n",
    "\n",
    "Consider the number of elements in nums which are not equal to val be k, to get accepted, you need to do the following things:\n",
    "\n",
    "- Change the array nums such that the first k elements of nums contain the elements which are not equal to val. The remaining elements of nums are not important as well as the size of nums.\n",
    "- Return k.\n",
    "\n",
    "**Example :**\n",
    "Input: nums = [3,2,2,3], val = 3\n",
    "Output: 2, nums = [2,2,_*,_*]\n",
    "\n",
    "**Explanation:** Your function should return k = 2, with the first two elements of nums being 2. It does not matter what you leave beyond the returned k (hence they are underscores)["
   ]
  },
  {
   "cell_type": "code",
   "execution_count": 8,
   "id": "7fa2a09f",
   "metadata": {},
   "outputs": [
    {
     "data": {
      "text/plain": [
       "(2, [2, 2, 2, 3])"
      ]
     },
     "execution_count": 8,
     "metadata": {},
     "output_type": "execute_result"
    }
   ],
   "source": [
    "def removeElement(nums, val):\n",
    "    i = 0  # pointer for iterating through the array\n",
    "    j = 0  # pointer for placing non-val elements at the beginning of the array\n",
    "\n",
    "    while i < len(nums):\n",
    "        if nums[i] != val:\n",
    "            nums[j] = nums[i]\n",
    "            j += 1\n",
    "        i += 1\n",
    "\n",
    "    return j , nums\n",
    "\n",
    "\n",
    "nums = [3,2,2,3]\n",
    "val = 3\n",
    "removeElement(nums, val)"
   ]
  },
  {
   "cell_type": "markdown",
   "id": "4b68a389",
   "metadata": {},
   "source": [
    "- In this code, we maintain two pointers: i and j. \n",
    "- The pointer i iterates through the array, checking each element. \n",
    "- If the element is not equal to val, we place it at the position j and increment j. \n",
    "- By doing this, we ensure that the first j elements in nums do not contain the value val."
   ]
  },
  {
   "cell_type": "markdown",
   "id": "2e1e9480",
   "metadata": {},
   "source": [
    "**Q3.** Given a sorted array of distinct integers and a target value, return the index if the target is found. If not, return the index where it would be if it were inserted in order.\n",
    "\n",
    "You must write an algorithm with O(log n) runtime complexity.\n",
    "\n",
    "**Example 1:**\n",
    "Input: nums = [1,3,5,6], target = 5\n",
    "\n",
    "Output: 2"
   ]
  },
  {
   "cell_type": "code",
   "execution_count": 9,
   "id": "6910b73b",
   "metadata": {},
   "outputs": [],
   "source": [
    "## To find the index where a target value should be inserted in a sorted array, you can use a binary search algorithm. \n",
    "def searchInsert(nums, target):\n",
    "    left = 0\n",
    "    right = len(nums) - 1\n",
    "\n",
    "    while left <= right:\n",
    "        mid = (left + right) // 2\n",
    "        if nums[mid] == target:\n",
    "            return mid\n",
    "        elif nums[mid] < target:\n",
    "            left = mid + 1\n",
    "        else:\n",
    "            right = mid - 1\n",
    "\n",
    "    return left"
   ]
  },
  {
   "cell_type": "code",
   "execution_count": 10,
   "id": "3f23a582",
   "metadata": {},
   "outputs": [
    {
     "data": {
      "text/plain": [
       "2"
      ]
     },
     "execution_count": 10,
     "metadata": {},
     "output_type": "execute_result"
    }
   ],
   "source": [
    "nums = [1,3,5,6]\n",
    "target = 5\n",
    "searchInsert(nums, target)"
   ]
  },
  {
   "cell_type": "markdown",
   "id": "fd8002e4",
   "metadata": {},
   "source": [
    "- In this code, we initialize the left pointer to the beginning of the array and the right pointer to the end of the array. \n",
    "- We continue the binary search loop until left becomes greater than right. \n",
    "- In each iteration, we calculate the middle index using (left + right) // 2. \n",
    "- We compare the middle element, nums[mid], with the target value. \n",
    "- If they are equal, we return the middle index. \n",
    "- If nums[mid] is less than the target, we move the left pointer to mid + 1 to search in the right half of the array. \n",
    "- Otherwise, if nums[mid] is greater than the target, we move the right pointer to mid - 1 to search in the left half of the array."
   ]
  },
  {
   "cell_type": "markdown",
   "id": "88a0c5f7",
   "metadata": {},
   "source": [
    "**Q4.** You are given a large integer represented as an integer array digits, where each digits[i] is the ith digit of the integer. The digits are ordered from most significant to least significant in left-to-right order. The large integer does not contain any leading 0's.\n",
    "\n",
    "Increment the large integer by one and return the resulting array of digits.\n",
    "\n",
    "**Example 1:**\n",
    "Input: digits = [1,2,3]\n",
    "Output: [1,2,4]\n",
    "\n",
    "**Explanation:** The array represents the integer 123.\n",
    "\n",
    "Incrementing by one gives 123 + 1 = 124.\n",
    "Thus, the result should be [1,2,4]."
   ]
  },
  {
   "cell_type": "code",
   "execution_count": 13,
   "id": "09539acf",
   "metadata": {},
   "outputs": [
    {
     "data": {
      "text/plain": [
       "[7, 5, 9, 5, 7]"
      ]
     },
     "execution_count": 13,
     "metadata": {},
     "output_type": "execute_result"
    }
   ],
   "source": [
    "#To increment a large integer represented as an array of digits by one, we can perform a simple addition operation. \n",
    "#We start from the least significant digit and add 1. \n",
    "#If the result is less than 10, we update the digit and return the array. \n",
    "#If the result is 10, we set the digit to 0 and continue the process with the next digit. \n",
    "#If we reach the most significant digit and it becomes 10, we insert a new digit of 1 at the beginning of the array.\n",
    "\n",
    "def plusOne(digits):\n",
    "    n = len(digits)\n",
    "    for i in range(n - 1, -1, -1):\n",
    "        if digits[i] < 9:\n",
    "            digits[i] += 1\n",
    "            return digits\n",
    "        else:\n",
    "            digits[i] = 0\n",
    "\n",
    "    # If we reach here, it means all digits were 9\n",
    "    digits.insert(0, 1)\n",
    "    return digits\n",
    "digits = [7,5,9,5,6]\n",
    "plusOne(digits)"
   ]
  },
  {
   "cell_type": "markdown",
   "id": "46e17034",
   "metadata": {},
   "source": [
    "- In this code, we iterate through the digits from right to left using a reverse for loop. \n",
    "- If a digit is less than 9, we increment it by 1 and return the digits array. \n",
    "- Otherwise, if the digit is 9, we set it to 0 and continue to the next digit. \n",
    "- If we reach the end of the loop without returning, it means all digits were 9. \n",
    "- In this case, we insert a new digit of 1 at the beginning of the array."
   ]
  },
  {
   "cell_type": "markdown",
   "id": "f13cd3b6",
   "metadata": {},
   "source": [
    "**Q5.** You are given two integer arrays nums1 and nums2, sorted in non-decreasing order, and two integers m and n, representing the number of elements in nums1 and nums2 respectively.\n",
    "\n",
    "Merge nums1 and nums2 into a single array sorted in non-decreasing order.\n",
    "\n",
    "The final sorted array should not be returned by the function, but instead be stored inside the array nums1. To accommodate this, nums1 has a length of m + n, where the first m elements denote the elements that should be merged, and the last n elements are set to 0 and should be ignored. nums2 has a length of n.\n",
    "\n",
    "**Example 1:**\n",
    "Input: nums1 = [1,2,3,0,0,0], m = 3, nums2 = [2,5,6], n = 3\n",
    "Output: [1,2,2,3,5,6]\n",
    "\n",
    "**Explanation:** The arrays we are merging are [1,2,3] and [2,5,6].\n",
    "The result of the merge is [1,2,2,3,5,6] with the underlined elements coming from nums1."
   ]
  },
  {
   "cell_type": "code",
   "execution_count": 8,
   "id": "bed47005",
   "metadata": {},
   "outputs": [],
   "source": [
    "def merge(nums1, m, nums2, n):\n",
    "    p1 = m - 1\n",
    "    p2 = n - 1\n",
    "    p = m + n - 1\n",
    "    \n",
    "    while p2 >= 0:\n",
    "        if p1 >= 0 and nums1[p1] > nums2[p2]:\n",
    "            nums1[p] = nums1[p1]\n",
    "            p1 -= 1\n",
    "        else:\n",
    "            nums1[p] = nums2[p2]\n",
    "            p2 -= 1\n",
    "        p -= 1\n",
    "    return nums1\n",
    "    # If there are any remaining elements in nums2\n",
    "    while p2 >= 0:\n",
    "        nums1[p] = nums2[p2]\n",
    "        p2 -= 1\n",
    "        p -= 1      \n",
    "    return nums1"
   ]
  },
  {
   "cell_type": "code",
   "execution_count": 11,
   "id": "cfa99cd9",
   "metadata": {},
   "outputs": [
    {
     "data": {
      "text/plain": [
       "[1, 2, 2, 3, 5, 6]"
      ]
     },
     "execution_count": 11,
     "metadata": {},
     "output_type": "execute_result"
    }
   ],
   "source": [
    "nums1 = [1,2,3,0,0,0]\n",
    "m = 3\n",
    "nums2 = [2,5,6]\n",
    "n = 3 \n",
    "merge(nums1, m, nums2, n)"
   ]
  },
  {
   "cell_type": "markdown",
   "id": "c8b6c53a",
   "metadata": {},
   "source": [
    "**Q6.** Given an integer array nums, return true if any value appears at least twice in the array, and return false if every element is distinct.\n",
    "\n",
    "**Example 1:**\n",
    "Input: nums = [1,2,3,1]\n",
    "\n",
    "Output: true"
   ]
  },
  {
   "cell_type": "code",
   "execution_count": 12,
   "id": "1e5468f9",
   "metadata": {},
   "outputs": [],
   "source": [
    "def containsDuplicate(nums):\n",
    "    num_set = set()\n",
    "    for num in nums:\n",
    "        if num in num_set:\n",
    "            return True\n",
    "        num_set.add(num)\n",
    "    return False"
   ]
  },
  {
   "cell_type": "code",
   "execution_count": 13,
   "id": "7f8f8b64",
   "metadata": {},
   "outputs": [
    {
     "data": {
      "text/plain": [
       "True"
      ]
     },
     "execution_count": 13,
     "metadata": {},
     "output_type": "execute_result"
    }
   ],
   "source": [
    "nums = [1,2,3,1]\n",
    "containsDuplicate(nums)"
   ]
  },
  {
   "cell_type": "markdown",
   "id": "1ed36867",
   "metadata": {},
   "source": [
    "- In this code, we initialize an empty set, num_set, to store the unique values encountered so far. \n",
    "- We iterate through the array nums and for each element, we check if it is already in the set. \n",
    "- If it is, we return true to indicate that a duplicate value exists. \n",
    "- Otherwise, we add the element to the set and continue to the next element. \n",
    "- If we reach the end of the loop without finding any duplicates, we return false."
   ]
  },
  {
   "cell_type": "markdown",
   "id": "fccceb17",
   "metadata": {},
   "source": [
    "**Q7.** Given an integer array nums, move all 0's to the end of it while maintaining the relative order of the nonzero elements.\n",
    "\n",
    "Note that you must do this in-place without making a copy of the array.\n",
    "\n",
    "**Example 1:**\n",
    "Input: nums = [0,1,0,3,12]\n",
    "Output: [1,3,12,0,0]"
   ]
  },
  {
   "cell_type": "code",
   "execution_count": 17,
   "id": "034882f7",
   "metadata": {},
   "outputs": [],
   "source": [
    "def moveZeroes(nums):\n",
    "    left = 0  # pointer for the position to place the next non-zero element\n",
    "\n",
    "    # Iterate through the array\n",
    "    for i in range(len(nums)):\n",
    "        if nums[i] != 0:\n",
    "            # Swap the current element with the left pointer element\n",
    "            nums[left], nums[i] = nums[i], nums[left]\n",
    "            left += 1\n",
    "    return nums"
   ]
  },
  {
   "cell_type": "code",
   "execution_count": 18,
   "id": "f5b29779",
   "metadata": {},
   "outputs": [
    {
     "data": {
      "text/plain": [
       "[1, 3, 12, 0, 0]"
      ]
     },
     "execution_count": 18,
     "metadata": {},
     "output_type": "execute_result"
    }
   ],
   "source": [
    "nums = [0,1,0,3,12]\n",
    "moveZeroes(nums)"
   ]
  },
  {
   "cell_type": "markdown",
   "id": "fac2c568",
   "metadata": {},
   "source": [
    "- In this code, we use the left pointer to keep track of the position where the next non-zero element should be placed. \n",
    "- We iterate through the array, and when we encounter a non-zero element, we swap it with the element at the left position and increment the left pointer."
   ]
  },
  {
   "cell_type": "markdown",
   "id": "ee47fc77",
   "metadata": {},
   "source": [
    "**Q8.** You have a set of integers s, which originally contains all the numbers from 1 to n. Unfortunately, due to some error, one of the numbers in s got duplicated to another number in the set, which results in repetition of one number and loss of another number.\n",
    "\n",
    "You are given an integer array nums representing the data status of this set after the error.\n",
    "\n",
    "Find the number that occurs twice and the number that is missing and return them in the form of an array.\n",
    "\n",
    "**Example 1:**\n",
    "Input: nums = [1,2,2,4]\n",
    "Output: [2,3]"
   ]
  },
  {
   "cell_type": "code",
   "execution_count": 19,
   "id": "1a05c00f",
   "metadata": {},
   "outputs": [],
   "source": [
    "def findErrorNums(nums):\n",
    "    n = len(nums)\n",
    "    num_set = set()\n",
    "    duplicate = -1\n",
    "    total_sum = (n * (n + 1)) // 2  # Sum of numbers from 1 to n\n",
    "\n",
    "    for num in nums:\n",
    "        if num in num_set:\n",
    "            duplicate = num\n",
    "        num_set.add(num)\n",
    "        total_sum -= num\n",
    "\n",
    "    missing = total_sum + duplicate\n",
    "    return [duplicate, missing]"
   ]
  },
  {
   "cell_type": "code",
   "execution_count": 20,
   "id": "7d619e4e",
   "metadata": {},
   "outputs": [
    {
     "data": {
      "text/plain": [
       "[2, 3]"
      ]
     },
     "execution_count": 20,
     "metadata": {},
     "output_type": "execute_result"
    }
   ],
   "source": [
    "nums = [1,2,2,4]\n",
    "findErrorNums(nums)"
   ]
  },
  {
   "cell_type": "markdown",
   "id": "97d5a9ca",
   "metadata": {},
   "source": [
    "- In this code, we initialize an empty set, num_set, to keep track of the numbers encountered so far. \n",
    "- We also initialize duplicate to -1 to store the duplicate number and calculate the total_sum, which represents the sum of numbers from 1 to n.\n",
    "\n",
    "- We iterate through the nums array and for each number, we check if it is already in the num_set. \n",
    "- If it is, we have found the duplicate number, and we update the duplicate variable accordingly. \n",
    "- Otherwise, we add the number to the set and subtract it from the total_sum.\n",
    "\n",
    "- After the loop, we calculate the missing number by adding the total_sum with the duplicate number."
   ]
  }
 ],
 "metadata": {
  "kernelspec": {
   "display_name": "Python 3 (ipykernel)",
   "language": "python",
   "name": "python3"
  },
  "language_info": {
   "codemirror_mode": {
    "name": "ipython",
    "version": 3
   },
   "file_extension": ".py",
   "mimetype": "text/x-python",
   "name": "python",
   "nbconvert_exporter": "python",
   "pygments_lexer": "ipython3",
   "version": "3.8.16"
  }
 },
 "nbformat": 4,
 "nbformat_minor": 5
}
