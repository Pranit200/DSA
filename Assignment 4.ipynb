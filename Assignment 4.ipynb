{
 "cells": [
  {
   "cell_type": "markdown",
   "id": "2b966dc5",
   "metadata": {},
   "source": [
    "💡 **Question 1**:-\n",
    "\n",
    "Given three integer arrays arr1, arr2 and arr3 **sorted** in **strictly increasing** order, return a sorted array of **only** the integers that appeared in **all** three arrays."
   ]
  },
  {
   "cell_type": "code",
   "execution_count": 1,
   "id": "2bc9b6f9",
   "metadata": {},
   "outputs": [
    {
     "name": "stdout",
     "output_type": "stream",
     "text": [
      "[1, 5]\n"
     ]
    }
   ],
   "source": [
    "def commonElements(arr1, arr2, arr3):\n",
    "    p1, p2, p3 = 0, 0, 0\n",
    "    result = []\n",
    "\n",
    "    while p1 < len(arr1) and p2 < len(arr2) and p3 < len(arr3):\n",
    "        if arr1[p1] == arr2[p2] == arr3[p3]:\n",
    "            result.append(arr1[p1])\n",
    "            p1 += 1\n",
    "            p2 += 1\n",
    "            p3 += 1\n",
    "        elif arr1[p1] <= arr2[p2] and arr1[p1] <= arr3[p3]:\n",
    "            p1 += 1\n",
    "        elif arr2[p2] <= arr1[p1] and arr2[p2] <= arr3[p3]:\n",
    "            p2 += 1\n",
    "        else:\n",
    "            p3 += 1\n",
    "\n",
    "    return result\n",
    "\n",
    "\n",
    "# Declaring values and checking for output\n",
    "\n",
    "arr1 = [1, 2, 3, 4, 5]\n",
    "arr2 = [1, 2, 5, 7, 9]\n",
    "arr3 = [1, 3, 4, 5, 8]\n",
    "result = commonElements(arr1, arr2, arr3)\n",
    "print(result)\n",
    "\n",
    "# Time Complexity - O(n)\n",
    "# Space Complexity - O(1)"
   ]
  },
  {
   "cell_type": "markdown",
   "id": "b8a93490",
   "metadata": {},
   "source": [
    "**Explanation**: Only 1 and 5 appeared in the three arrays."
   ]
  },
  {
   "cell_type": "markdown",
   "id": "e70a3d0a",
   "metadata": {},
   "source": [
    "💡 **Question 2**\n",
    "\n",
    "Given two **0-indexed** integer arrays nums1 and nums2, return *a list* answer *of size* 2 *where:*\n",
    "\n",
    "- answer[0] *is a list of all **distinct** integers in* nums1 *which are **not** present in* nums2*.*\n",
    "- answer[1] *is a list of all **distinct** integers in* nums2 *which are **not** present in* nums1.\n",
    "\n",
    "**Note** that the integers in the lists may be returned in **any** order."
   ]
  },
  {
   "cell_type": "code",
   "execution_count": 2,
   "id": "bca4f343",
   "metadata": {},
   "outputs": [
    {
     "name": "stdout",
     "output_type": "stream",
     "text": [
      "[[1, 3], [4, 6]]\n"
     ]
    }
   ],
   "source": [
    "def distinctLists(nums1 : list, nums2 : list) -> list:\n",
    "    set1 = set(nums1)\n",
    "    set2 = set(nums2)\n",
    "    \n",
    "    diff1 = list(set1 - set2)\n",
    "    diff2 = list(set2 - set1)\n",
    "    \n",
    "    return [diff1, diff2]\n",
    "\n",
    "# Declaring values and checking for output\n",
    "\n",
    "nums1 = [1, 2, 3]\n",
    "nums2 = [2, 4, 6]\n",
    "result = distinctLists(nums1, nums2)\n",
    "print(result)\n",
    "\n",
    "# Time Complexity - O(n1 + n2)\n",
    "# Space Complexity - O(m + k)"
   ]
  },
  {
   "cell_type": "markdown",
   "id": "a4bb78d6",
   "metadata": {},
   "source": [
    "**Explanation:**\n",
    "\n",
    "For nums1, nums1[1] = 2 is present at index 0 of nums2, whereas nums1[0] = 1 and nums1[2] = 3 are not present in nums2. Therefore, answer[0] = [1,3].\n",
    "\n",
    "For nums2, nums2[0] = 2 is present at index 1 of nums1, whereas nums2[1] = 4 and nums2[2] = 6 are not present in nums2. Therefore, answer[1] = [4,6]."
   ]
  },
  {
   "cell_type": "markdown",
   "id": "06e615ba",
   "metadata": {},
   "source": [
    "💡 **Question 3**\n",
    "Given a 2D integer array matrix, return *the **transpose** of* matrix.\n",
    "\n",
    "The **transpose** of a matrix is the matrix flipped over its main diagonal, switching the matrix's row and column indices."
   ]
  },
  {
   "cell_type": "code",
   "execution_count": 3,
   "id": "679fc5a5",
   "metadata": {},
   "outputs": [
    {
     "name": "stdout",
     "output_type": "stream",
     "text": [
      "[[1, 4, 7], [2, 5, 8], [3, 6, 9]]\n"
     ]
    }
   ],
   "source": [
    "def Transpose(matrix):\n",
    "    \n",
    "    rows = len(matrix)\n",
    "    columns = len(matrix[0])\n",
    "    # Creating new matrix of size mxn\n",
    "    transp_mat = [[0]*rows for i in range(columns)]\n",
    "    \n",
    "    for i in range(rows):\n",
    "        for j in range(columns):\n",
    "            transp_mat[j][i]  = matrix[i][j]                    # Assigning values to new matrix\n",
    "            \n",
    "    return transp_mat\n",
    "\n",
    "# Declaring values and checking for output\n",
    "\n",
    "matrix = [[1,2,3],[4,5,6],[7,8,9]]\n",
    "result = Transpose(matrix)\n",
    "print(result)\n",
    "\n",
    "# Time Complexity - O(mxn)\n",
    "# Space Complexity - O(mxn)"
   ]
  },
  {
   "cell_type": "markdown",
   "id": "d4a2e011",
   "metadata": {},
   "source": [
    "**Question 4**\n",
    "\n",
    "Given an integer array nums of 2n integers, group these integers into n pairs (a1, b1), (a2, b2), ..., (an, bn) such that the sum of min(ai, bi) for all i is **maximized.** Return the maximized sum."
   ]
  },
  {
   "cell_type": "code",
   "execution_count": 4,
   "id": "aa4c138c",
   "metadata": {},
   "outputs": [
    {
     "name": "stdout",
     "output_type": "stream",
     "text": [
      "4\n"
     ]
    }
   ],
   "source": [
    "'''To find the maximized sum of minimum values in pairs we have to perform sorting\n",
    "and take consecutive numbers sum '''\n",
    "\n",
    "def maximizedSum(nums):\n",
    "    nums.sort()\n",
    "    count = 0\n",
    "    \n",
    "    for i in range(0,len(nums),2):      # Accessing consecutive numbers by placing step value as 2\n",
    "        count += nums[i]\n",
    "        \n",
    "    return count\n",
    "\n",
    "# Declaring values and checking for output\n",
    "\n",
    "nums = [1,4,3,2]\n",
    "result = maximizedSum(nums)\n",
    "print(result)\n",
    "\n",
    "# Time Complexity - O(nlogn)\n",
    "# Space Complexity - O(1)"
   ]
  },
  {
   "cell_type": "markdown",
   "id": "3b5b62dc",
   "metadata": {},
   "source": [
    "**Explanation:** All possible pairings (ignoring the ordering of elements) are:\n",
    "\n",
    "1. (1, 4), (2, 3) -> min(1, 4) + min(2, 3) = 1 + 2 = 3\n",
    "\n",
    "2. (1, 3), (2, 4) -> min(1, 3) + min(2, 4) = 1 + 2 = 3\n",
    "\n",
    "3. (1, 2), (3, 4) -> min(1, 2) + min(3, 4) = 1 + 3 = 4\n",
    "\n",
    "So the maximum possible sum is 4."
   ]
  },
  {
   "cell_type": "markdown",
   "id": "e9b3ae34",
   "metadata": {},
   "source": [
    "💡 **Question 5**\n",
    "You have n coins and you want to build a staircase with these coins. The staircase consists of k rows where the ith row has exactly i coins. The last row of the staircase **may be** incomplete.\n",
    "\n",
    "Given the integer n, return *the number of **complete rows** of the staircase you will build*."
   ]
  },
  {
   "cell_type": "code",
   "execution_count": 5,
   "id": "ca2ce94e",
   "metadata": {},
   "outputs": [
    {
     "name": "stdout",
     "output_type": "stream",
     "text": [
      "2\n"
     ]
    }
   ],
   "source": [
    "def completeStairs(n):\n",
    "    count = 0\n",
    "    while n >= 0:\n",
    "        count += 1\n",
    "        n -= count\n",
    "        \n",
    "    return count - 1\n",
    "\n",
    "# Declaring values and checking for output\n",
    "\n",
    "result = completeStairs(5)\n",
    "print(result)\n",
    "\n",
    "# Time Complexity - O(n)\n",
    "# Space Complexity - O(1)"
   ]
  },
  {
   "cell_type": "markdown",
   "id": "7338889a",
   "metadata": {},
   "source": [
    "**Explanation**: Because the 3rd row is incomplete, we return 2."
   ]
  },
  {
   "cell_type": "markdown",
   "id": "562e1c04",
   "metadata": {},
   "source": [
    "**Question 6**\n",
    "\n",
    "Given an integer array nums sorted in **non-decreasing** order, return an array of **the squares of each number** sorted in non-decreasing order."
   ]
  },
  {
   "cell_type": "code",
   "execution_count": 6,
   "id": "2eae1184",
   "metadata": {},
   "outputs": [
    {
     "name": "stdout",
     "output_type": "stream",
     "text": [
      "[0, 1, 9, 16, 100]\n"
     ]
    }
   ],
   "source": [
    "class solution:\n",
    "    def Squares(self, nums):\n",
    "        for i in range(len(nums)):\n",
    "            nums[i] = nums[i]**2\n",
    "            \n",
    "        return self.quicksort(nums)\n",
    "    def quicksort(self,nums):\n",
    "        if len(nums) <= 1:\n",
    "            return nums\n",
    "        \n",
    "        pivot = nums[0]\n",
    "        smaller = []\n",
    "        larger = []\n",
    "        \n",
    "        for i in nums[1:]:\n",
    "            if i < pivot:\n",
    "                smaller.append(i)\n",
    "                \n",
    "            elif i >= pivot:\n",
    "                larger.append(i)\n",
    "                \n",
    "        return self.quicksort(smaller) + [pivot] + self.quicksort(larger)\n",
    "                \n",
    "# Declaring values and checking for output\n",
    "\n",
    "nums = [-4,-1,0,3,10]\n",
    "obj = solution()\n",
    "result = obj.Squares(nums)\n",
    "print(result)\n",
    "\n",
    "# Time Complexity - O(n^2)\n",
    "# Space Complexity - O(n)"
   ]
  },
  {
   "cell_type": "markdown",
   "id": "823b7a8c",
   "metadata": {},
   "source": [
    "**Explanation:** After squaring, the array becomes [16,1,0,9,100].\n",
    "After sorting, it becomes [0,1,9,16,100]"
   ]
  },
  {
   "cell_type": "markdown",
   "id": "2269ca17",
   "metadata": {},
   "source": [
    "**Question 6:**\n",
    "\n",
    "Given an integer array nums sorted in **non-decreasing** order, return an array of **the squares of each number** sorted in non-decreasing order."
   ]
  },
  {
   "cell_type": "code",
   "execution_count": 7,
   "id": "a33b044c",
   "metadata": {},
   "outputs": [
    {
     "name": "stdout",
     "output_type": "stream",
     "text": [
      "4\n"
     ]
    }
   ],
   "source": [
    "def MaxInts(m, n, ops):\n",
    "    if not ops:\n",
    "        return m*n\n",
    "    \n",
    "    min_row = min(op[0] for op in ops)\n",
    "    min_col = min(op[1] for op in ops)\n",
    "    \n",
    "    return min_row * min_col\n",
    "\n",
    "\n",
    "# Declaring values and checking for output\n",
    "\n",
    "m = 3\n",
    "n = 3\n",
    "ops = [[2,2],[3,3]]\n",
    "result = MaxInts(m, n, ops)\n",
    "print(result)\n",
    "\n",
    "# Time Complexity - O(n)\n",
    "# Space Complexity - O(1)"
   ]
  },
  {
   "cell_type": "markdown",
   "id": "5c76c21c",
   "metadata": {},
   "source": [
    "**Explanation:** The maximum integer in M is 2, and there are four of it in M. So return 4."
   ]
  },
  {
   "cell_type": "markdown",
   "id": "0668a684",
   "metadata": {},
   "source": [
    "💡 **Question 8**\n",
    "\n",
    "Given the array nums consisting of 2n elements in the form [x1,x2,...,xn,y1,y2,...,yn].\n",
    "\n",
    "*Return the array in the form* [x1,y1,x2,y2,...,xn,yn]."
   ]
  },
  {
   "cell_type": "code",
   "execution_count": 8,
   "id": "9fa60cf3",
   "metadata": {},
   "outputs": [
    {
     "name": "stdout",
     "output_type": "stream",
     "text": [
      "[2, 3, 5, 4, 1, 7]\n"
     ]
    }
   ],
   "source": [
    "def Rearrange(nums, n):\n",
    "    new_nums = []\n",
    "    \n",
    "    for i in range(n):\n",
    "        new_nums.extend([nums[i],nums[i+n]])\n",
    "    \n",
    "    return new_nums\n",
    "\n",
    "# Declaring values and checking for output\n",
    "\n",
    "nums = [2,5,1,3,4,7]\n",
    "n = 3\n",
    "result = Rearrange(nums, n)\n",
    "print(result)\n",
    "\n",
    "# Time Complexity - O(n)\n",
    "# Space Complexity - O(n)"
   ]
  },
  {
   "cell_type": "markdown",
   "id": "9389154c",
   "metadata": {},
   "source": [
    "**Explanation:** Since x1=2, x2=5, x3=1, y1=3, y2=4, y3=7 then the answer is [2,3,5,4,1,7]."
   ]
  },
  {
   "cell_type": "code",
   "execution_count": null,
   "id": "9f586618",
   "metadata": {},
   "outputs": [],
   "source": []
  }
 ],
 "metadata": {
  "kernelspec": {
   "display_name": "Python 3 (ipykernel)",
   "language": "python",
   "name": "python3"
  },
  "language_info": {
   "codemirror_mode": {
    "name": "ipython",
    "version": 3
   },
   "file_extension": ".py",
   "mimetype": "text/x-python",
   "name": "python",
   "nbconvert_exporter": "python",
   "pygments_lexer": "ipython3",
   "version": "3.8.16"
  }
 },
 "nbformat": 4,
 "nbformat_minor": 5
}
