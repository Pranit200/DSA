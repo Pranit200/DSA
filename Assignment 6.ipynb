{
 "cells": [
  {
   "cell_type": "markdown",
   "id": "b0494468",
   "metadata": {},
   "source": [
    "💡 **Question 1**\n",
    "\n",
    "A permutation perm of n + 1 integers of all the integers in the range [0, n] can be represented as a string s of length n where:\n",
    "\n",
    "- s[i] == 'I' if perm[i] < perm[i + 1], and\n",
    "- s[i] == 'D' if perm[i] > perm[i + 1].\n",
    "\n",
    "Given a string s, reconstruct the permutation perm and return it. If there are multiple valid permutations perm, return **any of them**."
   ]
  },
  {
   "cell_type": "markdown",
   "id": "341d60d4",
   "metadata": {},
   "source": [
    "#### Algorithm\n",
    "- Initialize an empty list called perm to store the reconstructed permutation.\n",
    "- Initialize two variables: n to represent the length of the string s, and max_num to store the maximum number in the permutation, which is n.\n",
    "- Iterate over each character c in the string s:\n",
    "- If c is equal to 'I':\n",
    "- Append max_num to perm.\n",
    "- Decrement max_num by 1.\n",
    "- If c is equal to 'D':\n",
    "- Insert max_num at the beginning of perm.\n",
    "- Decrement max_num by 1.\n",
    "- Append the remaining value of max_num to perm."
   ]
  },
  {
   "cell_type": "code",
   "execution_count": 1,
   "id": "4146c634",
   "metadata": {},
   "outputs": [],
   "source": [
    "def reconstructPermutation(s):\n",
    "    perm = []\n",
    "    n = len(s)\n",
    "    low, high = 0, n\n",
    "\n",
    "    for c in s:\n",
    "        if c == 'I':\n",
    "            perm.append(low)\n",
    "            low += 1\n",
    "        elif c == 'D':\n",
    "            perm.append(high)\n",
    "            high -= 1\n",
    "\n",
    "    perm.append(low)\n",
    "\n",
    "    return perm"
   ]
  },
  {
   "cell_type": "code",
   "execution_count": 2,
   "id": "aafc10b0",
   "metadata": {},
   "outputs": [
    {
     "data": {
      "text/plain": [
       "[0, 4, 1, 3, 2]"
      ]
     },
     "execution_count": 2,
     "metadata": {},
     "output_type": "execute_result"
    }
   ],
   "source": [
    "#**Example 1:**\n",
    "\n",
    "#Input:\n",
    "s = \"IDID\"\n",
    "\n",
    "#Output:\n",
    "s = \"IDID\"\n",
    "reconstructPermutation(s)"
   ]
  },
  {
   "cell_type": "markdown",
   "id": "ac01fbd5",
   "metadata": {},
   "source": [
    "💡 **Question 2**\n",
    "\n",
    "You are given an m x n integer matrix matrix with the following two properties:\n",
    "\n",
    "- Each row is sorted in non-decreasing order.\n",
    "- The first integer of each row is greater than the last integer of the previous row.\n",
    "\n",
    "Given an integer target, return true *if* target *is in* matrix *or* false *otherwise*.\n",
    "\n",
    "You must write a solution in O(log(m * n)) time complexity."
   ]
  },
  {
   "cell_type": "markdown",
   "id": "2879ba58",
   "metadata": {},
   "source": [
    "#### Algorithm\n",
    "\n",
    "- Initialize two variables, m and n, to represent the number of rows and columns in the matrix, respectively.\n",
    "- Initialize two pointers, left and right, to define the search range. Set left to 0 and right to m * n - 1.\n",
    "- While left is less than or equal to right, do:\n",
    "- Calculate the middle index as mid = (left + right) // 2.\n",
    "- Convert the middle index to row and column indices:\n",
    "    - row = mid // n\n",
    "    - col = mid % n\n",
    "- If matrix[row][col] is equal to the target, return True.\n",
    "- If matrix[row][col] is greater than the target, update right = mid - 1.\n",
    "- If matrix[row][col] is less than the target, update left = mid + 1.\n",
    "- If the target is not found within the loop, return False."
   ]
  },
  {
   "cell_type": "code",
   "execution_count": 4,
   "id": "f4bcfff1",
   "metadata": {},
   "outputs": [],
   "source": [
    "def searchMatrix(matrix, target):\n",
    "    m, n = len(matrix), len(matrix[0])\n",
    "    left, right = 0, m * n - 1\n",
    "\n",
    "    while left <= right:\n",
    "        mid = (left + right) // 2\n",
    "        row = mid // n\n",
    "        col = mid % n\n",
    "\n",
    "        if matrix[row][col] == target:\n",
    "            return True\n",
    "        elif matrix[row][col] < target:\n",
    "            left = mid + 1\n",
    "        else:\n",
    "            right = mid - 1\n",
    "\n",
    "    return False"
   ]
  },
  {
   "cell_type": "code",
   "execution_count": 5,
   "id": "86fac294",
   "metadata": {},
   "outputs": [
    {
     "data": {
      "text/plain": [
       "True"
      ]
     },
     "execution_count": 5,
     "metadata": {},
     "output_type": "execute_result"
    }
   ],
   "source": [
    "matrix = [[1, 3, 5, 7], [10, 11, 16, 20], [23, 30, 34, 60]]\n",
    "target = 3\n",
    "searchMatrix(matrix, target)"
   ]
  },
  {
   "cell_type": "markdown",
   "id": "8df9f2b1",
   "metadata": {},
   "source": [
    "The time complexity of the algorithm is O(log(m * n)), where m and n are the dimensions of the matrix. This complexity arises from performing a binary search on the matrix, which reduces the search range by half in each iteration.\n",
    "\n",
    "The space complexity of the algorithm is O(1) because it uses a constant amount of additional space. It doesn't require any additional data structures that scale with the size of the input. The algorithm performs the search by manipulating the indices and values within the given matrix, without allocating any significant extra memory.\n",
    "\n",
    "In summary:\n",
    "\n",
    "Time complexity: O(log(m * n)) Space complexity: O(1)"
   ]
  },
  {
   "cell_type": "markdown",
   "id": "16f33134",
   "metadata": {},
   "source": [
    "💡 **Question 3**\n",
    "\n",
    "Given an array of integers arr, return *true if and only if it is a valid mountain array*.\n",
    "\n",
    "Recall that arr is a mountain array if and only if:\n",
    "\n",
    "- arr.length >= 3\n",
    "- There exists some i with 0 < i < arr.length - 1 such that:\n",
    "    - arr[0] < arr[1] < ... < arr[i - 1] < arr[i]\n",
    "    - arr[i] > arr[i + 1] > ... > arr[arr.length - 1]"
   ]
  },
  {
   "cell_type": "markdown",
   "id": "7acb6592",
   "metadata": {},
   "source": [
    "#### Algorithm\n",
    "\n",
    "- Check if the length of the array arr is less than 3. If so, return False since a mountain array must have at least 3 elements.\n",
    "- Initialize two variables, i and n, to represent the current index and the length of the array, respectively.\n",
    "- While i + 1 < n and arr[i] < arr[i + 1], increment i to find the peak of the mountain.\n",
    "- If i == 0 or i == n - 1, return False since the peak cannot be at the start or the end of the array.\n",
    "- While i + 1 < n and arr[i] > arr[i + 1], increment i to check the descending slope of the mountain.\n",
    "- If i == n - 1, return True since we have reached the end of the array in a descending slope.\n",
    "- Otherwise, return False since there are elements remaining after the descending slope."
   ]
  },
  {
   "cell_type": "code",
   "execution_count": 6,
   "id": "58cd551f",
   "metadata": {},
   "outputs": [],
   "source": [
    "def validMountainArray(arr):\n",
    "    n = len(arr)\n",
    "    if n < 3:\n",
    "        return False\n",
    "\n",
    "    i = 0\n",
    "    while i + 1 < n and arr[i] < arr[i + 1]:\n",
    "        i += 1\n",
    "\n",
    "    if i == 0 or i == n - 1:\n",
    "        return False\n",
    "\n",
    "    while i + 1 < n and arr[i] > arr[i + 1]:\n",
    "        i += 1\n",
    "\n",
    "    return i == n - 1"
   ]
  },
  {
   "cell_type": "code",
   "execution_count": 7,
   "id": "c4f109e3",
   "metadata": {},
   "outputs": [
    {
     "data": {
      "text/plain": [
       "False"
      ]
     },
     "execution_count": 7,
     "metadata": {},
     "output_type": "execute_result"
    }
   ],
   "source": [
    "arr = [2, 1]\n",
    "validMountainArray(arr)"
   ]
  },
  {
   "cell_type": "markdown",
   "id": "3c54e16d",
   "metadata": {},
   "source": [
    "The time complexity of the algorithm is O(n), where n is the length of the input array arr. This is because the algorithm iterates through the array once to find the peak and then checks the descending slope. In the worst case, it will iterate through all the elements of the array.\n",
    "\n",
    "The space complexity of the algorithm is O(1) because it uses a constant amount of additional space. It does not require any extra data structures that grow with the size of the input. The algorithm performs the validation by manipulating the indices and values within the given array, without allocating any significant extra memory.\n",
    "\n",
    "In summary:\n",
    "\n",
    "Time complexity: O(n) Space complexity: O(1)"
   ]
  },
  {
   "cell_type": "markdown",
   "id": "7b806145",
   "metadata": {},
   "source": [
    "💡 **Question 4**\n",
    "\n",
    "Given a binary array nums, return *the maximum length of a contiguous subarray with an equal number of* 0 *and* 1.\n"
   ]
  },
  {
   "cell_type": "markdown",
   "id": "66e084f5",
   "metadata": {},
   "source": [
    "#### Algorithm\n",
    "\n",
    "- Initialize a variable max_len to store the maximum length of the subarray.\n",
    "- Initialize a variable count to store the running count of zeros and ones.\n",
    "- Create an empty dictionary called prefix_sums to store the count as the prefix sum at each index.\n",
    "- Iterate over the binary array nums:\n",
    "    - If the current element is 1, increment the count by 1.\n",
    "    - If the current element is 0, decrement the count by 1.\n",
    "    - If the count is 0, update max_len to the current index + 1 since it forms a valid subarray with an equal number of 0s and 1s.\n",
    "    - If the count is already present in prefix_sums, update max_len to the maximum of the current index and the index stored in prefix_sums[count]. This is because the difference in indices represents a subarray with an equal number of 0s and 1s.\n",
    "    - If the count is not present in prefix_sums, add it to prefix_sums with the value of the current index.\n",
    "- Return max_len as the maximum length of a contiguous subarray with an equal number of 0s and 1s."
   ]
  },
  {
   "cell_type": "code",
   "execution_count": 8,
   "id": "a32f6099",
   "metadata": {},
   "outputs": [],
   "source": [
    "def findMaxLength(nums):\n",
    "    max_len = 0\n",
    "    count = 0\n",
    "    prefix_sums = {0: -1}\n",
    "\n",
    "    for i, num in enumerate(nums):\n",
    "        count += 1 if num == 1 else -1\n",
    "\n",
    "        if count in prefix_sums:\n",
    "            max_len = max(max_len, i - prefix_sums[count])\n",
    "        else:\n",
    "            prefix_sums[count] = i\n",
    "\n",
    "    return max_len"
   ]
  },
  {
   "cell_type": "code",
   "execution_count": 9,
   "id": "e7fa79a1",
   "metadata": {},
   "outputs": [
    {
     "data": {
      "text/plain": [
       "2"
      ]
     },
     "execution_count": 9,
     "metadata": {},
     "output_type": "execute_result"
    }
   ],
   "source": [
    "nums = [0, 1]\n",
    "findMaxLength(nums)"
   ]
  },
  {
   "cell_type": "markdown",
   "id": "2f294eb8",
   "metadata": {},
   "source": [
    "The time complexity of the algorithm is O(n), where n is the length of the input array nums. This is because the algorithm iterates through the array once, performing constant-time operations for each element.\n",
    "\n",
    "The space complexity of the algorithm is O(n) as well. This is because the algorithm utilizes a dictionary prefix_sums to store the prefix sums of the counts. In the worst case, when all elements in the array have distinct counts, the dictionary will have a size equal to the length of the array.\n",
    "\n",
    "In summary:\n",
    "\n",
    "Time complexity: O(n) Space complexity: O(n)"
   ]
  },
  {
   "cell_type": "markdown",
   "id": "df9063c9",
   "metadata": {},
   "source": [
    "💡 **Question 5**\n",
    "\n",
    "The **product sum** of two equal-length arrays a and b is equal to the sum of a[i] * b[i] for all 0 <= i < a.length (**0-indexed**).\n",
    "\n",
    "- For example, if a = [1,2,3,4] and b = [5,2,3,1], the **product sum** would be 1*5 + 2*2 + 3*3 + 4*1 = 22.\n",
    "\n",
    "Given two arrays nums1 and nums2 of length n, return *the **minimum product sum** if you are allowed to **rearrange** the **order** of the elements in* nums1.\n"
   ]
  },
  {
   "cell_type": "markdown",
   "id": "8f539806",
   "metadata": {},
   "source": [
    "#### Algorithm\n",
    "\n",
    "- Initialize two variables, n and result, to store the length of the arrays and the minimum product sum, respectively.\n",
    "- Sort both nums1 and nums2 arrays in non-decreasing order.\n",
    "- Iterate over the range from 0 to n:\n",
    "    - Update the result by adding the product of nums1[i] and nums2[n - i - 1] to it.\n",
    "        - n - i - 1 is used because we need to pair the smallest element of nums1 with the largest element of nums2, and so on.\n",
    "- Return the result as the minimum product sum."
   ]
  },
  {
   "cell_type": "code",
   "execution_count": 10,
   "id": "dd814b39",
   "metadata": {},
   "outputs": [],
   "source": [
    "def minProductSum(nums1, nums2):\n",
    "    n = len(nums1)\n",
    "    result = 0\n",
    "\n",
    "    nums1.sort()\n",
    "    nums2.sort()\n",
    "\n",
    "    for i in range(n):\n",
    "        result += nums1[i] * nums2[n - i - 1]\n",
    "\n",
    "    return result"
   ]
  },
  {
   "cell_type": "code",
   "execution_count": 11,
   "id": "9d53e918",
   "metadata": {},
   "outputs": [
    {
     "data": {
      "text/plain": [
       "40"
      ]
     },
     "execution_count": 11,
     "metadata": {},
     "output_type": "execute_result"
    }
   ],
   "source": [
    "nums1 = [5, 3, 4, 2]\n",
    "nums2 = [4, 2, 2, 5]\n",
    "minProductSum(nums1, nums2)"
   ]
  },
  {
   "cell_type": "markdown",
   "id": "6e31b73b",
   "metadata": {},
   "source": [
    "The time complexity of the algorithm is O(n log n), where n is the length of the input arrays nums1 and nums2. This is because the algorithm sorts both arrays, which takes O(n log n) time complexity using efficient sorting algorithms like merge sort or quicksort.\n",
    "\n",
    "The space complexity of the algorithm is O(1) because it uses a constant amount of additional space. The sorting operations are performed in-place, so no extra space is required that scales with the size of the input arrays. The algorithm only uses a few variables to store the length of the arrays and the minimum product sum.\n",
    "\n",
    "In summary:\n",
    "\n",
    "Time complexity: O(n log n) Space complexity: O(1)"
   ]
  },
  {
   "cell_type": "markdown",
   "id": "7c066218",
   "metadata": {},
   "source": [
    "💡 **Question 6**\n",
    "\n",
    "An integer array original is transformed into a **doubled** array changed by appending **twice the value** of every element in original, and then randomly **shuffling** the resulting array.\n",
    "\n",
    "Given an array changed, return original *if* changed *is a **doubled** array. If* changed *is not a **doubled** array, return an empty array. The elements in* original *may be returned in **any** order*.\n"
   ]
  },
  {
   "cell_type": "markdown",
   "id": "1929bb6d",
   "metadata": {},
   "source": [
    "#### Algorithm\n",
    "\n",
    "- Create an empty dictionary called count to store the count of each element in the changed array.\n",
    "- Iterate over each element num in the changed array:\n",
    "    - Increment the count of num in the count dictionary.\n",
    "- Sort the changed array in non-decreasing order.\n",
    "- Create an empty list called original to store the original array.\n",
    "- Iterate over each element num in the sorted changed array:\n",
    "    - If the count of num in the count dictionary is 0, continue to the next iteration.\n",
    "    - Decrement the count of num in the count dictionary.\n",
    "    - Check if num * 2 is present in the count dictionary and its count is greater than 0.\n",
    "        - If it is, decrement the count of num * 2 in the count dictionary and append num to the original list.\n",
    "        - Otherwise, return an empty list since changed is not a doubled array.\n",
    "- Return the original list as the original array."
   ]
  },
  {
   "cell_type": "code",
   "execution_count": 14,
   "id": "575d454e",
   "metadata": {},
   "outputs": [],
   "source": [
    "def findOriginalArray(changed):\n",
    "    count = {}\n",
    "    for num in changed:\n",
    "        count[num] = count.get(num, 0) + 1\n",
    "\n",
    "    original = []\n",
    "    changed.sort()\n",
    "\n",
    "    for num in changed:\n",
    "        if count[num] == 0:\n",
    "            continue\n",
    "        count[num] -= 1\n",
    "        if count.get(num * 2, 0) > 0:\n",
    "            count[num * 2] -= 1\n",
    "            original.append(num)\n",
    "        else:\n",
    "            return []\n",
    "\n",
    "    return original"
   ]
  },
  {
   "cell_type": "code",
   "execution_count": 15,
   "id": "a442c026",
   "metadata": {},
   "outputs": [
    {
     "data": {
      "text/plain": [
       "[1, 3, 4]"
      ]
     },
     "execution_count": 15,
     "metadata": {},
     "output_type": "execute_result"
    }
   ],
   "source": [
    "changed = [1, 3, 4, 2, 6, 8]\n",
    "findOriginalArray(changed)"
   ]
  },
  {
   "cell_type": "markdown",
   "id": "de7f9280",
   "metadata": {},
   "source": [
    "- **Time Complexity: O(n log n)**\n",
    "\n",
    "The algorithm first iterates over the changed array to create the count dictionary, which takes O(n) time, where n is the length of the array. Sorting the changed array takes O(n log n) time complexity. The second iteration over the sorted changed array takes O(n) time. Therefore, the overall time complexity is dominated by the sorting step, which is O(n log n).\n",
    "\n",
    "- **Space Complexity: O(n)**\n",
    "\n",
    "The algorithm uses a dictionary count to store the count of elements, which can take up to O(n) space as it stores each unique element from the changed array. Additionally, the original list can also take up to O(n) space in the worst case if all elements in the changed array are valid for the original array. Therefore, the overall space complexity is O(n)."
   ]
  },
  {
   "cell_type": "markdown",
   "id": "2e71b18d",
   "metadata": {},
   "source": [
    "💡 **Question 7**\n",
    "\n",
    "Given a positive integer n, generate an n x n matrix filled with elements from 1 to n2 in spiral order\n"
   ]
  },
  {
   "cell_type": "markdown",
   "id": "d840d0fd",
   "metadata": {},
   "source": [
    "#### Algorithm\n",
    "\n",
    "- Create an empty matrix of size n x n, filled with zeros, called matrix.\n",
    "- Initialize four variables: top, bottom, left, and right to keep track of the boundaries of the matrix. Set top to 0, bottom to n - 1, left to 0, and right to n - 1.\n",
    "- Initialize a variable num to 1 to keep track of the next number to be placed in the matrix.\n",
    "- Use a while loop that runs as long as num is less than or equal to n * n.\n",
    "- Inside the while loop, iterate from left to right (inclusive) and assign num to the current position in the matrix at row top. Increment num by 1 and update top by 1.\n",
    "- Check if num is greater than n * n. If so, break out of the while loop.\n",
    "- Inside the while loop, iterate from top to bottom (inclusive) and assign num to the current position in the matrix at column right. Increment num by 1 and update right by -1.\n",
    "- Check if num is greater than n * n. If so, break out of the while loop.\n",
    "- Inside the while loop, iterate from right to left (inclusive) and assign num to the current position in the matrix at row bottom. Increment num by 1 and update bottom by -1.\n",
    "- Check if num is greater than n * n. If so, break out of the while loop.\n",
    "- Inside the while loop, iterate from bottom to top (inclusive) and assign num to the current position in the matrix at column left. Increment num by 1 and update left by 1.\n",
    "- After the while loop finishes, return the generated matrix."
   ]
  },
  {
   "cell_type": "code",
   "execution_count": 16,
   "id": "08b4933a",
   "metadata": {},
   "outputs": [],
   "source": [
    "def generateMatrix(n):\n",
    "    matrix = [[0] * n for _ in range(n)]\n",
    "    top, bottom, left, right = 0, n - 1, 0, n - 1\n",
    "    num = 1\n",
    "\n",
    "    while num <= n * n:\n",
    "        for i in range(left, right + 1):\n",
    "            matrix[top][i] = num\n",
    "            num += 1\n",
    "        top += 1\n",
    "\n",
    "        if num > n * n:\n",
    "            break\n",
    "\n",
    "        for i in range(top, bottom + 1):\n",
    "            matrix[i][right] = num\n",
    "            num += 1\n",
    "        right -= 1\n",
    "\n",
    "        if num > n * n:\n",
    "            break\n",
    "\n",
    "        for i in range(right, left - 1, -1):\n",
    "            matrix[bottom][i] = num\n",
    "            num += 1\n",
    "        bottom -= 1\n",
    "\n",
    "        if num > n * n:\n",
    "            break\n",
    "\n",
    "        for i in range(bottom, top - 1, -1):\n",
    "            matrix[i][left] = num\n",
    "            num += 1\n",
    "        left += 1\n",
    "\n",
    "    return matrix"
   ]
  },
  {
   "cell_type": "code",
   "execution_count": 17,
   "id": "0bb64258",
   "metadata": {},
   "outputs": [
    {
     "data": {
      "text/plain": [
       "[[1, 2, 3], [8, 9, 4], [7, 6, 5]]"
      ]
     },
     "execution_count": 17,
     "metadata": {},
     "output_type": "execute_result"
    }
   ],
   "source": [
    "n = 3\n",
    "generateMatrix(n)"
   ]
  },
  {
   "cell_type": "markdown",
   "id": "951eff1f",
   "metadata": {},
   "source": [
    "- **Time Complexity: O(n^2)**\n",
    "The algorithm uses a while loop to fill in the elements of the matrix in spiral order. Each element in the n x n matrix is filled once, so the overall time complexity is O(n^2).\n",
    "\n",
    "- **Space Complexity: O(n^2)**\n",
    "The algorithm creates an n x n matrix to store the elements in spiral order. The space required to store the matrix is proportional to the size of the input, which is O(n^2)."
   ]
  },
  {
   "cell_type": "markdown",
   "id": "517c80ca",
   "metadata": {},
   "source": [
    "💡 **Question 8**\n",
    "\n",
    "Given two [sparse matrices](https://en.wikipedia.org/wiki/Sparse_matrix) mat1 of size m x k and mat2 of size k x n, return the result of mat1 x mat2. You may assume that multiplication is always possible.\n"
   ]
  },
  {
   "cell_type": "markdown",
   "id": "2aa3ced1",
   "metadata": {},
   "source": [
    "#### Algorithm\n",
    "\n",
    "- Create an empty result matrix, res, of size m x n, filled with zeros.\n",
    "- Iterate over each non-zero element in mat1. For each element at position (i, j) with value val:\n",
    "    - Iterate over each non-zero element in mat2. For each element at position (j, k) with value num:\n",
    "    - Add val * num to the corresponding position (i, k) in the res matrix.\n",
    "- Return the res matrix."
   ]
  },
  {
   "cell_type": "code",
   "execution_count": 19,
   "id": "dd2cb36b",
   "metadata": {},
   "outputs": [],
   "source": [
    "def multiply(mat1, mat2):\n",
    "    m = len(mat1)\n",
    "    k = len(mat1[0])\n",
    "    n = len(mat2[0])\n",
    "    \n",
    "    res = [[0] * n for _ in range(m)]\n",
    "    \n",
    "    for i in range(m):\n",
    "        for j in range(k):\n",
    "            if mat1[i][j] != 0:\n",
    "                for k in range(n):\n",
    "                    res[i][k] += mat1[i][j] * mat2[j][k]\n",
    "    \n",
    "    return res"
   ]
  },
  {
   "cell_type": "code",
   "execution_count": 20,
   "id": "6cc9ff3b",
   "metadata": {},
   "outputs": [
    {
     "data": {
      "text/plain": [
       "[[7, 0, 0], [-7, 0, 0]]"
      ]
     },
     "execution_count": 20,
     "metadata": {},
     "output_type": "execute_result"
    }
   ],
   "source": [
    "mat1 = [[1, 0, 0], [-1, 0, 3]]\n",
    "mat2 = [[7, 0, 0], [0, 0, 0], [0, 0, 1]]\n",
    "multiply(mat1, mat2)"
   ]
  },
  {
   "cell_type": "markdown",
   "id": "5e7bdd2e",
   "metadata": {},
   "source": [
    "- **Time Complexity: O(m * k * n)**\n",
    "\n",
    "The algorithm iterates over each non-zero element in mat1, which takes O(m * k) time. For each non-zero element in mat1, it performs a multiplication with each non-zero element in mat2, which takes O(k * n) time. Therefore, the overall time complexity is O(m * k * n).\n",
    "\n",
    "- **Space Complexity: O(m * n)**\n",
    "\n",
    "The algorithm creates a result matrix, res, of size m x n to store the multiplication result, which requires O(m * n) space. In summary, the algorithm has a time complexity of O(m * k * n) and a space complexity of O(m * n)."
   ]
  },
  {
   "cell_type": "code",
   "execution_count": null,
   "id": "76d6d56b",
   "metadata": {},
   "outputs": [],
   "source": []
  }
 ],
 "metadata": {
  "kernelspec": {
   "display_name": "Python 3 (ipykernel)",
   "language": "python",
   "name": "python3"
  },
  "language_info": {
   "codemirror_mode": {
    "name": "ipython",
    "version": 3
   },
   "file_extension": ".py",
   "mimetype": "text/x-python",
   "name": "python",
   "nbconvert_exporter": "python",
   "pygments_lexer": "ipython3",
   "version": "3.8.16"
  }
 },
 "nbformat": 4,
 "nbformat_minor": 5
}
