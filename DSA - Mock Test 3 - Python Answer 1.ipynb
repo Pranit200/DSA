{
 "cells": [
  {
   "cell_type": "markdown",
   "id": "996376fa",
   "metadata": {},
   "source": [
    "### Implement a stack using a list in Python. Include the necessary methods such as push, pop, and isEmpty."
   ]
  },
  {
   "cell_type": "code",
   "execution_count": 1,
   "id": "1fabdfbf",
   "metadata": {},
   "outputs": [],
   "source": [
    "class Stack:\n",
    "    def __init__(self):\n",
    "        self.stack = []\n",
    "\n",
    "    def push(self, item):\n",
    "        \"\"\"Add an item to the top of the stack.\"\"\"\n",
    "        self.stack.append(item)\n",
    "\n",
    "    def pop(self):\n",
    "        \"\"\"Remove and return the item at the top of the stack.\"\"\"\n",
    "        if not self.isEmpty():\n",
    "            return self.stack.pop()\n",
    "        else:\n",
    "            raise IndexError(\"Stack is empty.\")\n",
    "\n",
    "    def isEmpty(self):\n",
    "        \"\"\"Check if the stack is empty.\"\"\"\n",
    "        return len(self.stack) == 0\n"
   ]
  },
  {
   "cell_type": "code",
   "execution_count": 3,
   "id": "dc320bba",
   "metadata": {},
   "outputs": [
    {
     "name": "stdout",
     "output_type": "stream",
     "text": [
      "30\n",
      "20\n",
      "False\n",
      "10\n",
      "True\n"
     ]
    }
   ],
   "source": [
    "# Create a new stack\n",
    "my_stack = Stack()\n",
    "\n",
    "# Push elements onto the stack\n",
    "my_stack.push(10)\n",
    "my_stack.push(20)\n",
    "my_stack.push(30)\n",
    "\n",
    "# Pop elements from the stack\n",
    "print(my_stack.pop()) \n",
    "print(my_stack.pop()) \n",
    "\n",
    "# Check if the stack is empty\n",
    "print(my_stack.isEmpty())  \n",
    "\n",
    "print(my_stack.pop())  \n",
    "print(my_stack.isEmpty())  "
   ]
  },
  {
   "cell_type": "code",
   "execution_count": null,
   "id": "1bca284d",
   "metadata": {},
   "outputs": [],
   "source": []
  }
 ],
 "metadata": {
  "kernelspec": {
   "display_name": "Python 3 (ipykernel)",
   "language": "python",
   "name": "python3"
  },
  "language_info": {
   "codemirror_mode": {
    "name": "ipython",
    "version": 3
   },
   "file_extension": ".py",
   "mimetype": "text/x-python",
   "name": "python",
   "nbconvert_exporter": "python",
   "pygments_lexer": "ipython3",
   "version": "3.8.16"
  }
 },
 "nbformat": 4,
 "nbformat_minor": 5
}
