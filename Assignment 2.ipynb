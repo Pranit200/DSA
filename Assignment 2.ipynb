{
 "cells": [
  {
   "cell_type": "markdown",
   "id": "4446276e",
   "metadata": {},
   "source": [
    "**Question 1**\n",
    "Given an integer array nums of 2n integers, group these integers into n pairs (a1, b1), (a2, b2),..., (an, bn) such that the sum of min(ai, bi) for all i is maximized. Return the maximized sum.\n",
    "\n",
    "**Example 1:**\n",
    "Input: nums = [1,4,3,2]\n",
    "Output: 4\n",
    "\n",
    "**Explanation:** All possible pairings (ignoring the ordering of elements) are:\n",
    "\n",
    "1. (1, 4), (2, 3) -> min(1, 4) + min(2, 3) = 1 + 2 = 3\n",
    "2. (1, 3), (2, 4) -> min(1, 3) + min(2, 4) = 1 + 2 = 3\n",
    "3. (1, 2), (3, 4) -> min(1, 2) + min(3, 4) = 1 + 3 = 4\n",
    "\n",
    "So the maximum possible sum is 4"
   ]
  },
  {
   "cell_type": "code",
   "execution_count": 6,
   "id": "044bf4c1",
   "metadata": {},
   "outputs": [
    {
     "name": "stdout",
     "output_type": "stream",
     "text": [
      "4\n"
     ]
    }
   ],
   "source": [
    "'''Q1. To get the maximum sum from minimum values from pairs,\n",
    "pairs difference should be less, so taking the successive pairs\n",
    "gives maximum total from the sorted array'''\n",
    "\n",
    "def maxTotal(nums):\n",
    "    nums.sort()\n",
    "    \n",
    "    count = 0\n",
    "    \n",
    "    for i in range(0, len(nums), 2):\n",
    "        count += nums[i]\n",
    "    \n",
    "    return count\n",
    "\n",
    "# Declaring values and checking for output\n",
    "\n",
    "nums = [1,4,3,2]\n",
    "output = maxTotal(nums)\n",
    "print(output)\n",
    "\n",
    "#Time Complexity - O(nlogn)\n",
    "#Space Complexity - O(1)    "
   ]
  },
  {
   "cell_type": "markdown",
   "id": "932baf9e",
   "metadata": {},
   "source": [
    "**Question 2**\n",
    "\n",
    "Alice has n candies, where the ith candy is of type candyType[i]. Alice noticed that she started to gain weight, so she visited a doctor. \n",
    "\n",
    "The doctor advised Alice to only eat n / 2 of the candies she has (n is always even). Alice likes her candies very much, and she wants to eat the maximum number of different types of candies while still following the doctor's advice. \n",
    "\n",
    "Given the integer array candyType of length n, return the maximum number of different types of candies she can eat if she only eats n / 2 of them.\n",
    "\n",
    "**Example 1**:\n",
    "Input: candyType = [1,1,2,2,3,3]\n",
    "Output: 3\n",
    "\n",
    "**Explanation**: Alice can only eat 6 / 2 = 3 candies. Since there are only 3 types, she can eat one of each type."
   ]
  },
  {
   "cell_type": "code",
   "execution_count": 7,
   "id": "2da46b96",
   "metadata": {},
   "outputs": [
    {
     "name": "stdout",
     "output_type": "stream",
     "text": [
      "3\n"
     ]
    }
   ],
   "source": [
    "def distributeCandies(candyType):\n",
    "\n",
    "    numSet = set()\n",
    "    n = len(candyType)\n",
    "\n",
    "    for i in candyType:\n",
    "        if len(numSet) < n / 2:         #total elements in set should be less than n/2 \n",
    "            numSet.add(i)\n",
    "    return len(numSet)\n",
    "\n",
    "\n",
    "# Declaring values and checking for output\n",
    "\n",
    "candyType = [1,1,2,3,3]\n",
    "obj  = distributeCandies(candyType)\n",
    "print(obj)\n",
    "\n",
    "#Time Complexity - O(n)\n",
    "#Space Complexity - O(1)"
   ]
  },
  {
   "cell_type": "markdown",
   "id": "06e52c64",
   "metadata": {},
   "source": [
    "**Question 3**\n",
    "\n",
    "We define a harmonious array as an array where the difference between its maximum value\n",
    "and its minimum value is exactly 1.\n",
    "\n",
    "Given an integer array nums, return the length of its longest harmonious subsequence\n",
    "among all its possible subsequences.\n",
    "\n",
    "A subsequence of an array is a sequence that can be derived from the array by deleting some or no elements without changing the order of the remaining elements.\n",
    "\n",
    "**Example 1**:\n",
    "Input: nums = [1,3,2,2,5,2,3,7]\n",
    "Output: 5\n",
    "\n",
    "**Explanation**: The longest harmonious subsequence is [3,2,2,2,3]."
   ]
  },
  {
   "cell_type": "code",
   "execution_count": 8,
   "id": "1a803b80",
   "metadata": {},
   "outputs": [
    {
     "data": {
      "text/plain": [
       "5"
      ]
     },
     "execution_count": 8,
     "metadata": {},
     "output_type": "execute_result"
    }
   ],
   "source": [
    "def longSeq(arr: list):\n",
    "    \n",
    "    from collections import Counter         \n",
    "    count = Counter(arr)              #Gives count of values repeated inside array as a dictionary\n",
    "    max_val = 0\n",
    "    \n",
    "    for key in count:\n",
    "        if key + 1 in count:          \n",
    "            max_val =  max(max_val, count[key] + count[key+1])\n",
    "    \n",
    "    return max_val\n",
    "\n",
    "# Declaring values and checking for output\n",
    "\n",
    "nums = [1,3,2,2,5,2,3,7]\n",
    "longSeq(nums)\n",
    "\n",
    "#Time Complexity - O(n)\n",
    "#Space Complexity - O(n)"
   ]
  },
  {
   "cell_type": "markdown",
   "id": "84fa0c8f",
   "metadata": {},
   "source": [
    "**Question 4**\n",
    "\n",
    "You have a long flowerbed in which some of the plots are planted, and some are not.\n",
    "However, flowers cannot be planted in adjacent plots.\n",
    "Given an integer array flowerbed containing 0's and 1's, where 0 means empty and 1 means not empty, and an integer n, return true if n new flowers can be planted in the flowerbed without violating the no-adjacent-flowers rule and false otherwise.\n",
    "\n",
    "**Example 1**:\n",
    "Input: flowerbed = [1,0,0,0,1], n = 1\n",
    "Output: true"
   ]
  },
  {
   "cell_type": "code",
   "execution_count": 9,
   "id": "8ecebf55",
   "metadata": {},
   "outputs": [
    {
     "name": "stdout",
     "output_type": "stream",
     "text": [
      "True\n"
     ]
    }
   ],
   "source": [
    "def placeFlowers(flowerbed, n):\n",
    "        count = 0\n",
    "        size = len(flowerbed)\n",
    "        i = 0\n",
    "        \n",
    "        #Checking for places at conditions when 0 is at start or end or at middle positions\n",
    "        while i < size:\n",
    "            if flowerbed[i] == 0 and (i == 0 or flowerbed[i-1] == 0) and (i == size-1 or flowerbed[i+1] == 0):\n",
    "                flowerbed[i] = 1\n",
    "                count += 1\n",
    "            i += 1\n",
    "    \n",
    "        return count >= n\n",
    "\n",
    "# Declaring values and checking for output\n",
    "\n",
    "flowerbed = [1,0,0,0,1]\n",
    "n = 1\n",
    "print(placeFlowers(flowerbed, n))\n",
    "\n",
    "#Time Complexity - O(n)\n",
    "#Space Complexity - O(1)"
   ]
  },
  {
   "cell_type": "markdown",
   "id": "e9ee39da",
   "metadata": {},
   "source": [
    "**Question 5**\n",
    "Given an integer array nums, find three numbers whose product is maximum and return the maximum product.\n",
    "\n",
    "**Example 1**:\n",
    "Input: nums = [1,2,3]\n",
    "Output: 6"
   ]
  },
  {
   "cell_type": "code",
   "execution_count": 10,
   "id": "1daaa655",
   "metadata": {},
   "outputs": [
    {
     "data": {
      "text/plain": [
       "6"
      ]
     },
     "execution_count": 10,
     "metadata": {},
     "output_type": "execute_result"
    }
   ],
   "source": [
    "def product(nums):\n",
    "    \n",
    "    n = len(nums)\n",
    "    nums.sort()\n",
    "    \n",
    "    product_1 = nums[0] * nums[1] * nums[n-1]\n",
    "    product_2 = nums[n-1] * nums[n-2] * nums[n-3]\n",
    "    \n",
    "    return max(product_1,product_2)\n",
    "\n",
    "\n",
    "# Declaring values and checking for output\n",
    "\n",
    "nums = [1,2,3]\n",
    "product(nums)"
   ]
  },
  {
   "cell_type": "markdown",
   "id": "681fff72",
   "metadata": {},
   "source": [
    "**Question 6**\n",
    "\n",
    "Given an array of integers nums which is sorted in ascending order, and an integer target,\n",
    "write a function to search target in nums. \n",
    "\n",
    "If target exists, then return its index. Otherwise,\n",
    "return -1.\n",
    "\n",
    "You must write an algorithm with O(log n) runtime complexity.\n",
    "\n",
    "Input: nums = [-1,0,3,5,9,12], target = 9\n",
    "Output: 4\n",
    "\n",
    "**Explanation**: 9 exists in nums and its index is 4"
   ]
  },
  {
   "cell_type": "code",
   "execution_count": 11,
   "id": "7881375a",
   "metadata": {},
   "outputs": [
    {
     "data": {
      "text/plain": [
       "4"
      ]
     },
     "execution_count": 11,
     "metadata": {},
     "output_type": "execute_result"
    }
   ],
   "source": [
    "def SearchTarget(nums, target):\n",
    "    low = 0\n",
    "    n = len(nums) - 1\n",
    "    high = n\n",
    "    \n",
    "    # Binary Search gives O(logn) complexity\n",
    "    while low <= high:\n",
    "        mid = low + (high - low)//2         #In binary search we have to find middle element index\n",
    "        \n",
    "        if nums[mid] == target:\n",
    "            \n",
    "            return mid\n",
    "        elif nums[mid] < target:\n",
    "            low = mid + 1\n",
    "        else:\n",
    "            high = mid - 1\n",
    "    \n",
    "    return -1\n",
    " \n",
    "    \n",
    "# Declaring values and checking for output\n",
    "\n",
    "nums = [-1,0,3,5,9,12]\n",
    "target = 9\n",
    "SearchTarget(nums, target)\n",
    "\n",
    "#Time Complexity - O(n)\n",
    "#Space Complexity - O(1)"
   ]
  },
  {
   "cell_type": "markdown",
   "id": "2e719106",
   "metadata": {},
   "source": [
    "**Question 7**\n",
    "\n",
    "An array is monotonic if it is either monotone increasing or monotone decreasing.\n",
    "\n",
    "An array nums is monotone increasing if for all i <= j, nums[i] <= nums[j]. \n",
    "\n",
    "An array nums is monotone decreasing if for all i <= j, nums[i] >= nums[j].\n",
    "\n",
    "Given an integer array nums, return true if the given array is monotonic, or false otherwise.\n",
    "\n",
    "**Example 1**:\n",
    "Input: nums = [1,2,2,3]\n",
    "Output: true"
   ]
  },
  {
   "cell_type": "code",
   "execution_count": 12,
   "id": "23de96f3",
   "metadata": {},
   "outputs": [
    {
     "name": "stdout",
     "output_type": "stream",
     "text": [
      "True\n"
     ]
    }
   ],
   "source": [
    "def Monotonic(nums):\n",
    "    j = 0\n",
    "    n = len(nums)\n",
    "    #Checking pattern of nums\n",
    "    if nums[0] - nums[n-1] <= 0:                    # pattern for increasing order\n",
    "        for i in range(1,n):\n",
    "            if nums[j] - nums[i] <= 0 :\n",
    "                j += 1\n",
    "            else:\n",
    "                return False\n",
    "    \n",
    "    elif nums[0] - nums[n-1] >= 0:                # Pattern for decreasing order\n",
    "        for i in range(1,n):\n",
    "            if nums[j] - nums[i] >= 0 :\n",
    "                j += 1\n",
    "            else:\n",
    "                return False\n",
    "    \n",
    "    return True\n",
    "\n",
    "\n",
    "# Declaring values and checking for output\n",
    "\n",
    "nums = [1,2,2,3]\n",
    "result = Monotonic(nums)\n",
    "print(result)\n",
    "\n",
    "#Time Complexity - O(n)\n",
    "#Space Complexity - O(1)"
   ]
  },
  {
   "cell_type": "markdown",
   "id": "d6530ca5",
   "metadata": {},
   "source": [
    "**Question 8**\n",
    "\n",
    "You are given an integer array nums and an integer k.\n",
    "\n",
    "In one operation, you can choose any index i where 0 <= i < nums.length and change nums[i] to nums[i] + x where x is an integer from the range [-k, k]. You can apply this operation at most once for each index i.\n",
    "\n",
    "The score of nums is the difference between the maximum and minimum elements in nums.\n",
    "\n",
    "Return the minimum score of nums after applying the mentioned operation at most once for each index in it.\n",
    "\n",
    "**Example 1**:\n",
    "Input: nums = [1], k = 0\n",
    "Output: 0\n",
    "\n",
    "**Explanation**: The score is max(nums) - min(nums) = 1 - 1 = 0."
   ]
  },
  {
   "cell_type": "code",
   "execution_count": 13,
   "id": "900abcd9",
   "metadata": {},
   "outputs": [
    {
     "name": "stdout",
     "output_type": "stream",
     "text": [
      "0\n"
     ]
    }
   ],
   "source": [
    "def Score(nums, k):\n",
    "    maxi = max(nums) - k      #The largest possible minimum value is min(nums) - k\n",
    "    mini = min(nums) + k      #The smallest possible maximum value is max(nums) - k.\n",
    "    \n",
    "    return max(0, maxi - mini)\n",
    "\n",
    "\n",
    "# Declaring values and checking for output\n",
    "\n",
    "nums = [1]\n",
    "k = 0\n",
    "result = Score(nums, k)\n",
    "print(result)\n",
    "\n",
    "#Time Complexity - O(N)\n",
    "#Space Complexity - O(1)"
   ]
  },
  {
   "cell_type": "code",
   "execution_count": null,
   "id": "0fbd1dcd",
   "metadata": {},
   "outputs": [],
   "source": []
  }
 ],
 "metadata": {
  "kernelspec": {
   "display_name": "Python 3 (ipykernel)",
   "language": "python",
   "name": "python3"
  },
  "language_info": {
   "codemirror_mode": {
    "name": "ipython",
    "version": 3
   },
   "file_extension": ".py",
   "mimetype": "text/x-python",
   "name": "python",
   "nbconvert_exporter": "python",
   "pygments_lexer": "ipython3",
   "version": "3.8.16"
  }
 },
 "nbformat": 4,
 "nbformat_minor": 5
}
